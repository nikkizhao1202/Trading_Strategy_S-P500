{
 "cells": [
  {
   "cell_type": "code",
   "execution_count": 1,
   "metadata": {},
   "outputs": [
    {
     "name": "stdout",
     "output_type": "stream",
     "text": [
      "Collecting hmmlearn\n",
      "  Downloading hmmlearn-0.2.3-cp37-cp37m-macosx_10_13_x86_64.whl (120 kB)\n",
      "\u001b[K     |████████████████████████████████| 120 kB 2.0 MB/s eta 0:00:01\n",
      "\u001b[?25hRequirement already satisfied: scipy>=0.15 in /Users/yongyizhao/anaconda3/lib/python3.7/site-packages (from hmmlearn) (1.4.1)\n",
      "Requirement already satisfied: scikit-learn>=0.16 in /Users/yongyizhao/anaconda3/lib/python3.7/site-packages (from hmmlearn) (0.22.1)\n",
      "Requirement already satisfied: numpy>=1.10 in /Users/yongyizhao/anaconda3/lib/python3.7/site-packages (from hmmlearn) (1.18.1)\n",
      "Requirement already satisfied: joblib>=0.11 in /Users/yongyizhao/anaconda3/lib/python3.7/site-packages (from scikit-learn>=0.16->hmmlearn) (0.14.1)\n",
      "Installing collected packages: hmmlearn\n",
      "Successfully installed hmmlearn-0.2.3\n"
     ]
    }
   ],
   "source": [
    "# !pip install hmmlearn"
   ]
  },
  {
   "cell_type": "code",
   "execution_count": 2,
   "metadata": {},
   "outputs": [],
   "source": [
    "import numpy as np\n",
    "import pandas as pd\n",
    "import matplotlib.pyplot as plt\n",
    "import seaborn as sns\n",
    "from hmmlearn.hmm import GaussianHMM\n",
    "%matplotlib inline"
   ]
  },
  {
   "cell_type": "code",
   "execution_count": 3,
   "metadata": {},
   "outputs": [
    {
     "data": {
      "text/html": [
       "<div>\n",
       "<style scoped>\n",
       "    .dataframe tbody tr th:only-of-type {\n",
       "        vertical-align: middle;\n",
       "    }\n",
       "\n",
       "    .dataframe tbody tr th {\n",
       "        vertical-align: top;\n",
       "    }\n",
       "\n",
       "    .dataframe thead th {\n",
       "        text-align: right;\n",
       "    }\n",
       "</style>\n",
       "<table border=\"1\" class=\"dataframe\">\n",
       "  <thead>\n",
       "    <tr style=\"text-align: right;\">\n",
       "      <th></th>\n",
       "      <th>SP500</th>\n",
       "    </tr>\n",
       "    <tr>\n",
       "      <th>Date</th>\n",
       "      <th></th>\n",
       "    </tr>\n",
       "  </thead>\n",
       "  <tbody>\n",
       "    <tr>\n",
       "      <th>3/2/2015 16:00</th>\n",
       "      <td>2105.23</td>\n",
       "    </tr>\n",
       "    <tr>\n",
       "      <th>3/3/2015 16:00</th>\n",
       "      <td>2115.76</td>\n",
       "    </tr>\n",
       "    <tr>\n",
       "      <th>3/4/2015 16:00</th>\n",
       "      <td>2107.72</td>\n",
       "    </tr>\n",
       "    <tr>\n",
       "      <th>3/5/2015 16:00</th>\n",
       "      <td>2098.54</td>\n",
       "    </tr>\n",
       "    <tr>\n",
       "      <th>3/6/2015 16:00</th>\n",
       "      <td>2100.91</td>\n",
       "    </tr>\n",
       "  </tbody>\n",
       "</table>\n",
       "</div>"
      ],
      "text/plain": [
       "                  SP500\n",
       "Date                   \n",
       "3/2/2015 16:00  2105.23\n",
       "3/3/2015 16:00  2115.76\n",
       "3/4/2015 16:00  2107.72\n",
       "3/5/2015 16:00  2098.54\n",
       "3/6/2015 16:00  2100.91"
      ]
     },
     "execution_count": 3,
     "metadata": {},
     "output_type": "execute_result"
    }
   ],
   "source": [
    "# load the open sp500 open price information\n",
    "stock = pd.read_csv('Daily.csv')\n",
    "stock = stock.set_index('Date')\n",
    "stock = stock.astype('float64')\n",
    "stock.head()"
   ]
  },
  {
   "cell_type": "code",
   "execution_count": 5,
   "metadata": {},
   "outputs": [
    {
     "name": "stdout",
     "output_type": "stream",
     "text": [
      "1257\n"
     ]
    }
   ],
   "source": [
    "# we generate the dates vector\n",
    "dates = pd.to_datetime(stock.index[1:])\n",
    "print(len(dates))"
   ]
  },
  {
   "cell_type": "code",
   "execution_count": 6,
   "metadata": {},
   "outputs": [
    {
     "name": "stdout",
     "output_type": "stream",
     "text": [
      "1257\n"
     ]
    }
   ],
   "source": [
    "# we generate the open price vector\n",
    "prices =  stock[1:]\n",
    "print(len(prices))"
   ]
  },
  {
   "cell_type": "code",
   "execution_count": 9,
   "metadata": {},
   "outputs": [
    {
     "data": {
      "text/html": [
       "<div>\n",
       "<style scoped>\n",
       "    .dataframe tbody tr th:only-of-type {\n",
       "        vertical-align: middle;\n",
       "    }\n",
       "\n",
       "    .dataframe tbody tr th {\n",
       "        vertical-align: top;\n",
       "    }\n",
       "\n",
       "    .dataframe thead th {\n",
       "        text-align: right;\n",
       "    }\n",
       "</style>\n",
       "<table border=\"1\" class=\"dataframe\">\n",
       "  <thead>\n",
       "    <tr style=\"text-align: right;\">\n",
       "      <th></th>\n",
       "      <th>SP500</th>\n",
       "    </tr>\n",
       "    <tr>\n",
       "      <th>Date</th>\n",
       "      <th></th>\n",
       "    </tr>\n",
       "  </thead>\n",
       "  <tbody>\n",
       "    <tr>\n",
       "      <th>3/3/2015 16:00</th>\n",
       "      <td>2115.76</td>\n",
       "    </tr>\n",
       "    <tr>\n",
       "      <th>3/4/2015 16:00</th>\n",
       "      <td>2107.72</td>\n",
       "    </tr>\n",
       "    <tr>\n",
       "      <th>3/5/2015 16:00</th>\n",
       "      <td>2098.54</td>\n",
       "    </tr>\n",
       "    <tr>\n",
       "      <th>3/6/2015 16:00</th>\n",
       "      <td>2100.91</td>\n",
       "    </tr>\n",
       "    <tr>\n",
       "      <th>3/9/2015 16:00</th>\n",
       "      <td>2072.25</td>\n",
       "    </tr>\n",
       "    <tr>\n",
       "      <th>...</th>\n",
       "      <td>...</td>\n",
       "    </tr>\n",
       "    <tr>\n",
       "      <th>2/21/2020 16:00</th>\n",
       "      <td>3360.50</td>\n",
       "    </tr>\n",
       "    <tr>\n",
       "      <th>2/24/2020 16:00</th>\n",
       "      <td>3257.61</td>\n",
       "    </tr>\n",
       "    <tr>\n",
       "      <th>2/25/2020 16:00</th>\n",
       "      <td>3238.94</td>\n",
       "    </tr>\n",
       "    <tr>\n",
       "      <th>2/26/2020 16:00</th>\n",
       "      <td>3139.90</td>\n",
       "    </tr>\n",
       "    <tr>\n",
       "      <th>2/27/2020 16:00</th>\n",
       "      <td>3062.54</td>\n",
       "    </tr>\n",
       "  </tbody>\n",
       "</table>\n",
       "<p>1257 rows × 1 columns</p>\n",
       "</div>"
      ],
      "text/plain": [
       "                   SP500\n",
       "Date                    \n",
       "3/3/2015 16:00   2115.76\n",
       "3/4/2015 16:00   2107.72\n",
       "3/5/2015 16:00   2098.54\n",
       "3/6/2015 16:00   2100.91\n",
       "3/9/2015 16:00   2072.25\n",
       "...                  ...\n",
       "2/21/2020 16:00  3360.50\n",
       "2/24/2020 16:00  3257.61\n",
       "2/25/2020 16:00  3238.94\n",
       "2/26/2020 16:00  3139.90\n",
       "2/27/2020 16:00  3062.54\n",
       "\n",
       "[1257 rows x 1 columns]"
      ]
     },
     "execution_count": 9,
     "metadata": {},
     "output_type": "execute_result"
    }
   ],
   "source": [
    "stock[1:]"
   ]
  },
  {
   "cell_type": "code",
   "execution_count": 10,
   "metadata": {},
   "outputs": [
    {
     "data": {
      "text/html": [
       "<div>\n",
       "<style scoped>\n",
       "    .dataframe tbody tr th:only-of-type {\n",
       "        vertical-align: middle;\n",
       "    }\n",
       "\n",
       "    .dataframe tbody tr th {\n",
       "        vertical-align: top;\n",
       "    }\n",
       "\n",
       "    .dataframe thead th {\n",
       "        text-align: right;\n",
       "    }\n",
       "</style>\n",
       "<table border=\"1\" class=\"dataframe\">\n",
       "  <thead>\n",
       "    <tr style=\"text-align: right;\">\n",
       "      <th></th>\n",
       "      <th>SP500</th>\n",
       "    </tr>\n",
       "    <tr>\n",
       "      <th>Date</th>\n",
       "      <th></th>\n",
       "    </tr>\n",
       "  </thead>\n",
       "  <tbody>\n",
       "    <tr>\n",
       "      <th>3/2/2015 16:00</th>\n",
       "      <td>2105.23</td>\n",
       "    </tr>\n",
       "    <tr>\n",
       "      <th>3/3/2015 16:00</th>\n",
       "      <td>2115.76</td>\n",
       "    </tr>\n",
       "    <tr>\n",
       "      <th>3/4/2015 16:00</th>\n",
       "      <td>2107.72</td>\n",
       "    </tr>\n",
       "    <tr>\n",
       "      <th>3/5/2015 16:00</th>\n",
       "      <td>2098.54</td>\n",
       "    </tr>\n",
       "    <tr>\n",
       "      <th>3/6/2015 16:00</th>\n",
       "      <td>2100.91</td>\n",
       "    </tr>\n",
       "    <tr>\n",
       "      <th>...</th>\n",
       "      <td>...</td>\n",
       "    </tr>\n",
       "    <tr>\n",
       "      <th>2/20/2020 16:00</th>\n",
       "      <td>3380.45</td>\n",
       "    </tr>\n",
       "    <tr>\n",
       "      <th>2/21/2020 16:00</th>\n",
       "      <td>3360.50</td>\n",
       "    </tr>\n",
       "    <tr>\n",
       "      <th>2/24/2020 16:00</th>\n",
       "      <td>3257.61</td>\n",
       "    </tr>\n",
       "    <tr>\n",
       "      <th>2/25/2020 16:00</th>\n",
       "      <td>3238.94</td>\n",
       "    </tr>\n",
       "    <tr>\n",
       "      <th>2/26/2020 16:00</th>\n",
       "      <td>3139.90</td>\n",
       "    </tr>\n",
       "  </tbody>\n",
       "</table>\n",
       "<p>1257 rows × 1 columns</p>\n",
       "</div>"
      ],
      "text/plain": [
       "                   SP500\n",
       "Date                    \n",
       "3/2/2015 16:00   2105.23\n",
       "3/3/2015 16:00   2115.76\n",
       "3/4/2015 16:00   2107.72\n",
       "3/5/2015 16:00   2098.54\n",
       "3/6/2015 16:00   2100.91\n",
       "...                  ...\n",
       "2/20/2020 16:00  3380.45\n",
       "2/21/2020 16:00  3360.50\n",
       "2/24/2020 16:00  3257.61\n",
       "2/25/2020 16:00  3238.94\n",
       "2/26/2020 16:00  3139.90\n",
       "\n",
       "[1257 rows x 1 columns]"
      ]
     },
     "execution_count": 10,
     "metadata": {},
     "output_type": "execute_result"
    }
   ],
   "source": [
    "stock[:-1]"
   ]
  },
  {
   "cell_type": "code",
   "execution_count": 7,
   "metadata": {},
   "outputs": [
    {
     "name": "stdout",
     "output_type": "stream",
     "text": [
      "1257\n"
     ]
    }
   ],
   "source": [
    "# we generate the 1-day log return vector\n",
    "log_returns = (np.log(np.array(stock[1:]))-np.log(np.array(stock[:-1])))\n",
    "print(np.size(log_returns))"
   ]
  },
  {
   "cell_type": "code",
   "execution_count": 8,
   "metadata": {},
   "outputs": [
    {
     "data": {
      "text/plain": [
       "array([[ 0.00498936],\n",
       "       [-0.00380729],\n",
       "       [-0.00436493],\n",
       "       ...,\n",
       "       [-0.00574768],\n",
       "       [-0.03105516],\n",
       "       [-0.02494632]])"
      ]
     },
     "execution_count": 8,
     "metadata": {},
     "output_type": "execute_result"
    }
   ],
   "source": [
    "log_returns"
   ]
  },
  {
   "cell_type": "code",
   "execution_count": 7,
   "metadata": {},
   "outputs": [
    {
     "name": "stdout",
     "output_type": "stream",
     "text": [
      "[0 0 0 ... 1 1 1]\n"
     ]
    }
   ],
   "source": [
    "# using HMM model to obtian the hidden states of SP500 index\n",
    "hmm = GaussianHMM(n_components = 2, covariance_type='diag',n_iter = 5000).fit(log_returns)\n",
    "hidden_states = hmm.predict(log_returns)\n",
    "print(hidden_states)"
   ]
  },
  {
   "cell_type": "code",
   "execution_count": 8,
   "metadata": {},
   "outputs": [
    {
     "data": {
      "image/png": "[encoded data removed]",
      "text/plain": [
       "<Figure size 1080x576 with 1 Axes>"
      ]
     },
     "metadata": {},
     "output_type": "display_data"
    }
   ],
   "source": [
    "# plot the states of SP500 over time\n",
    "sns.set_style('white')\n",
    "plt.figure(figsize = (15, 8))\n",
    "for i in range(hmm.n_components):\n",
    "    state = (hidden_states == i)\n",
    "    plt.plot(dates[state],prices[state],'.',label = 'latent state %d'%i,lw = 1)\n",
    "    plt.legend()\n",
    "    plt.grid(1)"
   ]
  },
  {
   "cell_type": "code",
   "execution_count": 9,
   "metadata": {},
   "outputs": [
    {
     "data": {
      "image/png": "[encoded data removed]",
      "text/plain": [
       "<Figure size 1080x576 with 1 Axes>"
      ]
     },
     "metadata": {},
     "output_type": "display_data"
    }
   ],
   "source": [
    "# we accumulate the P/L for each hidden states, and it's obvious that state 0  in increasing and state 1 is decreasing\n",
    "sp500 = pd.DataFrame({'date':dates, 'log_return':np.ravel(log_returns), 'state':hidden_states}).set_index('date')\n",
    "plt.figure(figsize=(15,8))\n",
    "for i in range(hmm.n_components):\n",
    "    state = (hidden_states  == i)\n",
    "    idx = np.append(0,state[:-1])\n",
    "    sp500['state %d_return'%i] = sp500.log_return.multiply(idx,axis = 0) \n",
    "    plt.plot(np.exp(sp500['state %d_return' %i].cumsum()),label = 'hidden_state %d'%i)\n",
    "    plt.legend()\n",
    "    plt.grid(1)"
   ]
  },
  {
   "cell_type": "code",
   "execution_count": 10,
   "metadata": {},
   "outputs": [],
   "source": [
    "# our strategy is to buy all at the start of state 0 and sell all at the start of state 1\n",
    "# 1. we start to buy the stock at open price once we meet the first state 0\n",
    "# 2. we hold the position until we face the next first state 1\n",
    "# 3. then we wait until the next state 0 to occur to buy the stock again\n",
    "# 4. This in an in-sample strategy, in real world, we have no price information in the future\n",
    "#    Thus we can only have today's P/L (comparing yesterday) and previours day, hmm model will update everyday"
   ]
  },
  {
   "cell_type": "code",
   "execution_count": 11,
   "metadata": {},
   "outputs": [
    {
     "name": "stdout",
     "output_type": "stream",
     "text": [
      "SP500 P&L from 01/02/2020 to 02/07/2020 is:  -0.05613205657277939\n"
     ]
    }
   ],
   "source": [
    "# SP500 P&L from 01/02/2020 to 02/07/2020\n",
    "prices_mx = np.ravel(np.array(prices))\n",
    "sp500_pl = (prices_mx[1256]-prices_mx[1218])/prices_mx[1218]\n",
    "print('SP500 P&L from 01/02/2020 to 02/07/2020 is: ', sp500_pl)"
   ]
  },
  {
   "cell_type": "code",
   "execution_count": 12,
   "metadata": {},
   "outputs": [
    {
     "name": "stdout",
     "output_type": "stream",
     "text": [
      "2020-01-02 16:00:00 , buy at price:  3244.67\n",
      "2020-01-27 16:00:00 , sell at price:  3247.16\n",
      "In-sample HMM strategy P&L from 01/02/2020 to 02/07/2020 is:  0.0007674124024938689\n"
     ]
    }
   ],
   "source": [
    "# in-sample strategy\n",
    "buy_sum = 0\n",
    "sell_sum = 0\n",
    "position = 0\n",
    "for i in range(1218, 1257):\n",
    "    if position == 0:\n",
    "        if hidden_states[i] == 0:\n",
    "            buy_sum += prices_mx[i]\n",
    "            position = 1\n",
    "            print(dates[i], ', buy at price: ', prices_mx[i])\n",
    "    else:\n",
    "        if hidden_states[i] == 1:\n",
    "            sell_sum += prices_mx[i]\n",
    "            position = 0\n",
    "            print(dates[i], ', sell at price: ', prices_mx[i])\n",
    "if position == 1:\n",
    "    sell_sum += prices_mx[-1]\n",
    "    print(dates[-1], ', sell at price: ', prices_mx[-1])\n",
    "insample_pl = (sell_sum-buy_sum)/buy_sum\n",
    "print('In-sample HMM strategy P&L from 01/02/2020 to 02/07/2020 is: ', insample_pl)"
   ]
  },
  {
   "cell_type": "code",
   "execution_count": 13,
   "metadata": {},
   "outputs": [
    {
     "name": "stdout",
     "output_type": "stream",
     "text": [
      "2020-01-14 16:00:00 , buy at price:  3285.35\n",
      "2020-01-15 16:00:00 , sell at price:  3282.27\n",
      "2020-01-22 16:00:00 , buy at price:  3330.02\n",
      "2020-01-23 16:00:00 , sell at price:  3315.77\n",
      "2020-01-27 16:00:00 , buy at price:  3247.16\n",
      "2020-01-31 16:00:00 , sell at price:  3282.33\n",
      "2020-02-03 16:00:00 , buy at price:  3235.66\n",
      "2020-02-14 16:00:00 , sell at price:  3378.08\n",
      "2020-02-18 16:00:00 , buy at price:  3369.04\n",
      "2020-02-19 16:00:00 , sell at price:  3380.39\n",
      "2020-02-24 16:00:00 , buy at price:  3257.61\n",
      "2020-02-25 16:00:00 , sell at price:  3238.94\n",
      "2020-02-26 16:00:00 , buy at price:  3139.9\n",
      "2020-02-27 16:00:00 , sell at price:  3062.54\n",
      "In-sample HMM strategy P&L from 01/02/2020 to 02/07/2020 is:  0.0033055263256874167\n"
     ]
    }
   ],
   "source": [
    "# one-day prediction strategy\n",
    "# on everday, we recalculate the hidden states, and choose to buy or sell based on today's state\n",
    "# the states of previous days calculated today may be different than yesterday's calculation\n",
    "\n",
    "# if better state, return 0; if worse stte, return 1\n",
    "def is_worse_state(hidden_states, log_returns):\n",
    "    state0 = (hidden_states  == 0)\n",
    "    idx0 = np.append(0,state0[:-1])\n",
    "    state0_sum = np.sum(idx0*log_returns)\n",
    "    state1 = (hidden_states  == 1)\n",
    "    idx1 = np.append(0,state1[:-1])\n",
    "    state1_sum = np.sum(idx0*log_returns)\n",
    "    if state0_sum > state1_sum:\n",
    "        if hidden_states[-1] == 0:\n",
    "            return 0\n",
    "        else:\n",
    "            return 1\n",
    "    else:\n",
    "        if hidden_states[-1] == 0:\n",
    "            return 1;\n",
    "        else:\n",
    "            return 0;\n",
    "\n",
    "# calculate today's state\n",
    "def today_state(log_returns_sub):\n",
    "    hmm = GaussianHMM(n_components = 2, covariance_type='diag',n_iter = 5000).fit(log_returns_sub)\n",
    "    hidden_states = hmm.predict(log_returns_sub)\n",
    "    log_returns_1d = np.ravel(np.array(log_returns_sub))\n",
    "    state = is_worse_state(hidden_states, log_returns_1d)\n",
    "    return state\n",
    "\n",
    "# run the strategy\n",
    "buy_sum = 0\n",
    "sell_sum = 0\n",
    "position = 0\n",
    "for i in range(1218, 1257):\n",
    "    log_returns_sub = log_returns[:i+1,:]\n",
    "    state = today_state(log_returns_sub)\n",
    "    if position == 0:\n",
    "        if  state == 0:\n",
    "            buy_sum += prices_mx[i]\n",
    "            position = 1\n",
    "            print(dates[i], ', buy at price: ', prices_mx[i])\n",
    "    else:\n",
    "        if  state == 1:\n",
    "            sell_sum += prices_mx[i]\n",
    "            position = 0\n",
    "            print(dates[i], ', sell at price: ', prices_mx[i])\n",
    "if position == 1:\n",
    "    sell_sum += prices_mx[-1]\n",
    "    print(dates[-1], ', sell at price: ', prices_mx[-1])\n",
    "prediction_pl = (sell_sum-buy_sum)/buy_sum\n",
    "print('In-sample HMM strategy P&L from 01/02/2020 to 02/07/2020 is: ', prediction_pl)"
   ]
  },
  {
   "cell_type": "code",
   "execution_count": null,
   "metadata": {},
   "outputs": [],
   "source": []
  },
  {
   "cell_type": "code",
   "execution_count": null,
   "metadata": {},
   "outputs": [],
   "source": []
  }
 ],
 "metadata": {
  "kernelspec": {
   "display_name": "Python 3",
   "language": "python",
   "name": "python3"
  },
  "language_info": {
   "codemirror_mode": {
    "name": "ipython",
    "version": 3
   },
   "file_extension": ".py",
   "mimetype": "text/x-python",
   "name": "python",
   "nbconvert_exporter": "python",
   "pygments_lexer": "ipython3",
   "version": "3.7.3"
  },
  "nbTranslate": {
   "displayLangs": [
    "*"
   ],
   "hotkey": "alt-t",
   "langInMainMenu": true,
   "sourceLang": "en",
   "targetLang": "fr",
   "useGoogleTranslate": true
  },
  "varInspector": {
   "cols": {
    "lenName": 16,
    "lenType": 16,
    "lenVar": 40
   },
   "kernels_config": {
    "python": {
     "delete_cmd_postfix": "",
     "delete_cmd_prefix": "del ",
     "library": "var_list.py",
     "varRefreshCmd": "print(var_dic_list())"
    },
    "r": {
     "delete_cmd_postfix": ") ",
     "delete_cmd_prefix": "rm(",
     "library": "var_list.r",
     "varRefreshCmd": "cat(var_dic_list()) "
    }
   },
   "types_to_exclude": [
    "module",
    "function",
    "builtin_function_or_method",
    "instance",
    "_Feature"
   ],
   "window_display": false
  }
 },
 "nbformat": 4,
 "nbformat_minor": 4
}
